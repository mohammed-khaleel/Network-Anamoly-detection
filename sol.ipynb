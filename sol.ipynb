{
 "cells": [
  {
   "cell_type": "code",
   "execution_count": 55,
   "metadata": {},
   "outputs": [],
   "source": [
    "import pandas as pd\n",
    "import numpy as np\n",
    "import matplotlib.pyplot as plt\n",
    "from sklearn.model_selection import train_test_split\n",
    "from sklearn.metrics import accuracy_score"
   ]
  },
  {
   "cell_type": "code",
   "execution_count": 56,
   "metadata": {},
   "outputs": [],
   "source": [
    "df=pd.read_csv(r'C:\\Users\\khale\\OneDrive\\Desktop\\SA_IITG\\hackathon2\\Train_Data.csv')"
   ]
  },
  {
   "cell_type": "code",
   "execution_count": 57,
   "metadata": {},
   "outputs": [
    {
     "name": "stdout",
     "output_type": "stream",
     "text": [
      "<class 'pandas.core.frame.DataFrame'>\n",
      "RangeIndex: 86845 entries, 0 to 86844\n",
      "Data columns (total 43 columns):\n",
      " #   Column                  Non-Null Count  Dtype  \n",
      "---  ------                  --------------  -----  \n",
      " 0   duration                86845 non-null  int64  \n",
      " 1   protocoltype            86845 non-null  object \n",
      " 2   service                 86845 non-null  object \n",
      " 3   flag                    86845 non-null  object \n",
      " 4   srcbytes                86845 non-null  int64  \n",
      " 5   dstbytes                86845 non-null  int64  \n",
      " 6   land                    86845 non-null  int64  \n",
      " 7   wrongfragment           86845 non-null  int64  \n",
      " 8   urgent                  86845 non-null  int64  \n",
      " 9   hot                     86845 non-null  int64  \n",
      " 10  numfailedlogins         86845 non-null  int64  \n",
      " 11  loggedin                86845 non-null  int64  \n",
      " 12  numcompromised          86845 non-null  int64  \n",
      " 13  rootshell               86845 non-null  int64  \n",
      " 14  suattempted             86845 non-null  int64  \n",
      " 15  numroot                 86845 non-null  int64  \n",
      " 16  numfilecreations        86845 non-null  int64  \n",
      " 17  numshells               86845 non-null  int64  \n",
      " 18  numaccessfiles          86845 non-null  int64  \n",
      " 19  numoutboundcmds         86845 non-null  int64  \n",
      " 20  ishostlogin             86845 non-null  int64  \n",
      " 21  isguestlogin            86845 non-null  int64  \n",
      " 22  count                   86845 non-null  int64  \n",
      " 23  srvcount                86845 non-null  int64  \n",
      " 24  serrorrate              86845 non-null  float64\n",
      " 25  srvserrorrate           86845 non-null  float64\n",
      " 26  rerrorrate              86845 non-null  float64\n",
      " 27  srvrerrorrate           86845 non-null  float64\n",
      " 28  samesrvrate             86845 non-null  float64\n",
      " 29  diffsrvrate             86845 non-null  float64\n",
      " 30  srvdiffhostrate         86845 non-null  float64\n",
      " 31  dsthostcount            86845 non-null  int64  \n",
      " 32  dsthostsrvcount         86845 non-null  int64  \n",
      " 33  dsthostsamesrvrate      86845 non-null  float64\n",
      " 34  dsthostdiffsrvrate      86845 non-null  float64\n",
      " 35  dsthostsamesrcportrate  86845 non-null  float64\n",
      " 36  dsthostsrvdiffhostrate  86845 non-null  float64\n",
      " 37  dsthostserrorrate       86845 non-null  float64\n",
      " 38  dsthostsrvserrorrate    86845 non-null  float64\n",
      " 39  dsthostrerrorrate       86845 non-null  float64\n",
      " 40  dsthostsrvrerrorrate    86845 non-null  float64\n",
      " 41  lastflag                86845 non-null  int64  \n",
      " 42  attack                  86845 non-null  object \n",
      "dtypes: float64(15), int64(24), object(4)\n",
      "memory usage: 28.5+ MB\n"
     ]
    }
   ],
   "source": [
    "df.info()"
   ]
  },
  {
   "cell_type": "code",
   "execution_count": 58,
   "metadata": {},
   "outputs": [],
   "source": [
    "X_test=pd.read_csv(r\"C:\\Users\\khale\\OneDrive\\Desktop\\SA_IITG\\hackathon2\\Test_Data.csv\")"
   ]
  },
  {
   "cell_type": "code",
   "execution_count": 59,
   "metadata": {},
   "outputs": [],
   "source": [
    "train_cols=df.drop(['attack'],axis=1)\n",
    "labels=df['attack']"
   ]
  },
  {
   "cell_type": "code",
   "execution_count": 60,
   "metadata": {},
   "outputs": [
    {
     "data": {
      "text/plain": [
       "['protocoltype', 'service', 'flag']"
      ]
     },
     "execution_count": 60,
     "metadata": {},
     "output_type": "execute_result"
    }
   ],
   "source": [
    "cat_cols=train_cols.select_dtypes(include=['object']).columns.to_list()\n",
    "cat_cols"
   ]
  },
  {
   "cell_type": "code",
   "execution_count": 65,
   "metadata": {},
   "outputs": [
    {
     "name": "stdout",
     "output_type": "stream",
     "text": [
      "0:\tlearn: 0.6482270\ttotal: 59.6ms\tremaining: 5.9s\n",
      "1:\tlearn: 0.6076185\ttotal: 118ms\tremaining: 5.77s\n",
      "2:\tlearn: 0.5691752\ttotal: 179ms\tremaining: 5.78s\n",
      "3:\tlearn: 0.5326332\ttotal: 246ms\tremaining: 5.91s\n",
      "4:\tlearn: 0.4980516\ttotal: 313ms\tremaining: 5.95s\n",
      "5:\tlearn: 0.4657805\ttotal: 379ms\tremaining: 5.93s\n",
      "6:\tlearn: 0.4351288\ttotal: 433ms\tremaining: 5.75s\n",
      "7:\tlearn: 0.4052622\ttotal: 489ms\tremaining: 5.62s\n",
      "8:\tlearn: 0.3767521\ttotal: 550ms\tremaining: 5.56s\n",
      "9:\tlearn: 0.3505866\ttotal: 615ms\tremaining: 5.54s\n",
      "10:\tlearn: 0.3262523\ttotal: 673ms\tremaining: 5.45s\n",
      "11:\tlearn: 0.3038784\ttotal: 731ms\tremaining: 5.36s\n",
      "12:\tlearn: 0.2838424\ttotal: 801ms\tremaining: 5.36s\n",
      "13:\tlearn: 0.2647642\ttotal: 868ms\tremaining: 5.33s\n",
      "14:\tlearn: 0.2464608\ttotal: 925ms\tremaining: 5.24s\n",
      "15:\tlearn: 0.2291403\ttotal: 983ms\tremaining: 5.16s\n",
      "16:\tlearn: 0.2136087\ttotal: 1.05s\tremaining: 5.12s\n",
      "17:\tlearn: 0.1987222\ttotal: 1.11s\tremaining: 5.08s\n",
      "18:\tlearn: 0.1851844\ttotal: 1.18s\tremaining: 5.03s\n",
      "19:\tlearn: 0.1738232\ttotal: 1.24s\tremaining: 4.96s\n",
      "20:\tlearn: 0.1627105\ttotal: 1.31s\tremaining: 4.92s\n",
      "21:\tlearn: 0.1523239\ttotal: 1.37s\tremaining: 4.86s\n",
      "22:\tlearn: 0.1431663\ttotal: 1.43s\tremaining: 4.79s\n",
      "23:\tlearn: 0.1340748\ttotal: 1.49s\tremaining: 4.71s\n",
      "24:\tlearn: 0.1252501\ttotal: 1.55s\tremaining: 4.64s\n",
      "25:\tlearn: 0.1178711\ttotal: 1.61s\tremaining: 4.58s\n",
      "26:\tlearn: 0.1100462\ttotal: 1.67s\tremaining: 4.52s\n",
      "27:\tlearn: 0.1030983\ttotal: 1.73s\tremaining: 4.44s\n",
      "28:\tlearn: 0.0969489\ttotal: 1.79s\tremaining: 4.38s\n",
      "29:\tlearn: 0.0909566\ttotal: 1.85s\tremaining: 4.31s\n",
      "30:\tlearn: 0.0856015\ttotal: 1.91s\tremaining: 4.24s\n",
      "31:\tlearn: 0.0803225\ttotal: 1.96s\tremaining: 4.17s\n",
      "32:\tlearn: 0.0758658\ttotal: 2.02s\tremaining: 4.11s\n",
      "33:\tlearn: 0.0713331\ttotal: 2.08s\tremaining: 4.05s\n",
      "34:\tlearn: 0.0674805\ttotal: 2.14s\tremaining: 3.98s\n",
      "35:\tlearn: 0.0634768\ttotal: 2.2s\tremaining: 3.91s\n",
      "36:\tlearn: 0.0599140\ttotal: 2.26s\tremaining: 3.85s\n",
      "37:\tlearn: 0.0565215\ttotal: 2.32s\tremaining: 3.79s\n",
      "38:\tlearn: 0.0531645\ttotal: 2.38s\tremaining: 3.72s\n",
      "39:\tlearn: 0.0500993\ttotal: 2.44s\tremaining: 3.65s\n",
      "40:\tlearn: 0.0472949\ttotal: 2.49s\tremaining: 3.59s\n",
      "41:\tlearn: 0.0446567\ttotal: 2.56s\tremaining: 3.53s\n",
      "42:\tlearn: 0.0420426\ttotal: 2.62s\tremaining: 3.47s\n",
      "43:\tlearn: 0.0399382\ttotal: 2.67s\tremaining: 3.4s\n",
      "44:\tlearn: 0.0377112\ttotal: 2.73s\tremaining: 3.34s\n",
      "45:\tlearn: 0.0355771\ttotal: 2.79s\tremaining: 3.28s\n",
      "46:\tlearn: 0.0336346\ttotal: 2.85s\tremaining: 3.21s\n",
      "47:\tlearn: 0.0325782\ttotal: 2.91s\tremaining: 3.15s\n",
      "48:\tlearn: 0.0309282\ttotal: 2.99s\tremaining: 3.11s\n",
      "49:\tlearn: 0.0295357\ttotal: 3.06s\tremaining: 3.06s\n",
      "50:\tlearn: 0.0283278\ttotal: 3.13s\tremaining: 3s\n",
      "51:\tlearn: 0.0275245\ttotal: 3.19s\tremaining: 2.94s\n",
      "52:\tlearn: 0.0262061\ttotal: 3.25s\tremaining: 2.88s\n",
      "53:\tlearn: 0.0250008\ttotal: 3.3s\tremaining: 2.81s\n",
      "54:\tlearn: 0.0241009\ttotal: 3.36s\tremaining: 2.75s\n",
      "55:\tlearn: 0.0231585\ttotal: 3.43s\tremaining: 2.69s\n",
      "56:\tlearn: 0.0221213\ttotal: 3.49s\tremaining: 2.63s\n",
      "57:\tlearn: 0.0211104\ttotal: 3.56s\tremaining: 2.58s\n",
      "58:\tlearn: 0.0204613\ttotal: 3.62s\tremaining: 2.52s\n",
      "59:\tlearn: 0.0195668\ttotal: 3.71s\tremaining: 2.48s\n",
      "60:\tlearn: 0.0187079\ttotal: 3.79s\tremaining: 2.42s\n",
      "61:\tlearn: 0.0179328\ttotal: 3.85s\tremaining: 2.36s\n",
      "62:\tlearn: 0.0174928\ttotal: 3.9s\tremaining: 2.29s\n",
      "63:\tlearn: 0.0168209\ttotal: 3.96s\tremaining: 2.23s\n",
      "64:\tlearn: 0.0161163\ttotal: 4.02s\tremaining: 2.17s\n",
      "65:\tlearn: 0.0157260\ttotal: 4.08s\tremaining: 2.1s\n",
      "66:\tlearn: 0.0151110\ttotal: 4.14s\tremaining: 2.04s\n",
      "67:\tlearn: 0.0145102\ttotal: 4.2s\tremaining: 1.98s\n",
      "68:\tlearn: 0.0140291\ttotal: 4.26s\tremaining: 1.91s\n",
      "69:\tlearn: 0.0135646\ttotal: 4.32s\tremaining: 1.85s\n",
      "70:\tlearn: 0.0131360\ttotal: 4.39s\tremaining: 1.79s\n",
      "71:\tlearn: 0.0126144\ttotal: 4.47s\tremaining: 1.74s\n",
      "72:\tlearn: 0.0121652\ttotal: 4.54s\tremaining: 1.68s\n",
      "73:\tlearn: 0.0117843\ttotal: 4.62s\tremaining: 1.62s\n",
      "74:\tlearn: 0.0115248\ttotal: 4.68s\tremaining: 1.56s\n",
      "75:\tlearn: 0.0111252\ttotal: 4.75s\tremaining: 1.5s\n",
      "76:\tlearn: 0.0107405\ttotal: 4.81s\tremaining: 1.44s\n",
      "77:\tlearn: 0.0103491\ttotal: 4.88s\tremaining: 1.38s\n",
      "78:\tlearn: 0.0099964\ttotal: 4.95s\tremaining: 1.31s\n",
      "79:\tlearn: 0.0096600\ttotal: 5.02s\tremaining: 1.25s\n",
      "80:\tlearn: 0.0094468\ttotal: 5.08s\tremaining: 1.19s\n",
      "81:\tlearn: 0.0091818\ttotal: 5.15s\tremaining: 1.13s\n",
      "82:\tlearn: 0.0088960\ttotal: 5.26s\tremaining: 1.08s\n",
      "83:\tlearn: 0.0086426\ttotal: 5.32s\tremaining: 1.01s\n",
      "84:\tlearn: 0.0083740\ttotal: 5.38s\tremaining: 949ms\n",
      "85:\tlearn: 0.0081506\ttotal: 5.43s\tremaining: 884ms\n",
      "86:\tlearn: 0.0079361\ttotal: 5.5s\tremaining: 821ms\n",
      "87:\tlearn: 0.0077235\ttotal: 5.56s\tremaining: 758ms\n",
      "88:\tlearn: 0.0075160\ttotal: 5.62s\tremaining: 694ms\n",
      "89:\tlearn: 0.0073949\ttotal: 5.67s\tremaining: 630ms\n",
      "90:\tlearn: 0.0072129\ttotal: 5.72s\tremaining: 566ms\n",
      "91:\tlearn: 0.0070166\ttotal: 5.79s\tremaining: 503ms\n",
      "92:\tlearn: 0.0068364\ttotal: 5.84s\tremaining: 440ms\n",
      "93:\tlearn: 0.0066788\ttotal: 5.91s\tremaining: 377ms\n",
      "94:\tlearn: 0.0066118\ttotal: 5.97s\tremaining: 314ms\n",
      "95:\tlearn: 0.0064575\ttotal: 6.04s\tremaining: 251ms\n",
      "96:\tlearn: 0.0062936\ttotal: 6.1s\tremaining: 189ms\n",
      "97:\tlearn: 0.0061439\ttotal: 6.16s\tremaining: 126ms\n",
      "98:\tlearn: 0.0059989\ttotal: 6.22s\tremaining: 62.9ms\n",
      "99:\tlearn: 0.0058578\ttotal: 6.29s\tremaining: 0us\n"
     ]
    }
   ],
   "source": [
    "import catboost\n",
    "#X_train,X_test,y_train,y_test=train_test_split(train_cols,labels,test_size=0.33 ,random_state=2)\n",
    "cb=catboost.CatBoostClassifier(iterations=100,learning_rate=0.01,depth=4)\n",
    "cb.fit(train_cols,labels,cat_features=cat_cols)\n",
    "y_pred=cb.predict(X_test)\n",
    "#acc=accuracy_score(y_pred=y_pred,y_true=y_test)\n",
    "dict={'normal':0,'neptune':1}\n",
    "y_pred=np.vectorize(dict.get)(y_pred)\n",
    "y_pred=pd.DataFrame(y_pred,columns=['attack'])\n",
    "y_pred.to_csv('submission4.csv',index=False)\n"
   ]
  }
 ],
 "metadata": {
  "kernelspec": {
   "display_name": "Python 3",
   "language": "python",
   "name": "python3"
  },
  "language_info": {
   "codemirror_mode": {
    "name": "ipython",
    "version": 3
   },
   "file_extension": ".py",
   "mimetype": "text/x-python",
   "name": "python",
   "nbconvert_exporter": "python",
   "pygments_lexer": "ipython3",
   "version": "3.9.11"
  }
 },
 "nbformat": 4,
 "nbformat_minor": 2
}
